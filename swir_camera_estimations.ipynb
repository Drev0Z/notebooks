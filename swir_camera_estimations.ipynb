{
  "nbformat": 4,
  "nbformat_minor": 0,
  "metadata": {
    "colab": {
      "name": "swir_camera_estimations.ipynb",
      "version": "0.3.2",
      "provenance": []
    },
    "kernelspec": {
      "name": "python3",
      "display_name": "Python 3"
    }
  },
  "cells": [
    {
      "cell_type": "markdown",
      "metadata": {
        "id": "D9Xpjjv3Guoc",
        "colab_type": "text"
      },
      "source": [
        "###Оценка порога чувствительности SWIR камеры\n",
        "\n",
        "Среднняя обнаружительная способность в максимуме спектральной характеристики (_взята из технических характеристик_):\n",
        "$D_{\\lambda_{max}} = 5 \\cdot 10^{12} \\ \\frac{см \\sqrt{Гц}}{Вт}$\n",
        "\n",
        "$$D = \\frac{\\sqrt{S \\cdot \\Delta f}}{\\Phi_п},$$\n",
        "\n",
        "где\n",
        "$S$ - площадка,\n",
        "$\\Delta f$ - полоса частот,\n",
        "$\\Phi_п$ - порог чувствительности\n"
      ]
    },
    {
      "cell_type": "code",
      "metadata": {
        "id": "Epss7vIZGnzs",
        "colab_type": "code",
        "outputId": "0f7bab5b-bdf4-4001-8983-f13c5656027f",
        "colab": {
          "base_uri": "https://localhost:8080/",
          "height": 34
        }
      },
      "source": [
        "S = 15e-6**2 # Pixel area is 15μm x 15μm\n",
        "f = 20 # Bandwidth is 20Hz\n",
        "spectral_coeff = 0.8 # Relative spectral sensitivity for wavelength 1088 nm\n",
        "D = 5e12 # Detectivity\n",
        "\n",
        "P = (S*f)**0.5/(D*spectral_coeff) #Sensitivity\n",
        "\n",
        "print('Порог чувствительности = %.1e Вт'%P)"
      ],
      "execution_count": 0,
      "outputs": [
        {
          "output_type": "stream",
          "text": [
            "Порог чувствительности = 1.7e-17 Вт\n"
          ],
          "name": "stdout"
        }
      ]
    },
    {
      "cell_type": "code",
      "metadata": {
        "id": "uSLmzv9oLG-5",
        "colab_type": "code",
        "outputId": "c85f175e-2a6b-4dd1-9e22-b2e22fbf845b",
        "colab": {
          "base_uri": "https://localhost:8080/",
          "height": 34
        }
      },
      "source": [
        "from scipy.constants import *\n",
        "wavelength = 1088e-9\n",
        "photon_energy = h*c/wavelength\n",
        "print('Энергия одного фотона = %.2e Дж'%photon_energy)"
      ],
      "execution_count": 0,
      "outputs": [
        {
          "output_type": "stream",
          "text": [
            "Энергия одного фотона = 1.83e-19 Дж\n"
          ],
          "name": "stdout"
        }
      ]
    },
    {
      "cell_type": "code",
      "metadata": {
        "id": "q_ujJa2zNnzY",
        "colab_type": "code",
        "outputId": "226eb2f3-9268-4f59-ba6b-9f94eaabbe42",
        "colab": {
          "base_uri": "https://localhost:8080/",
          "height": 34
        }
      },
      "source": [
        "photons = P/photon_energy\n",
        "\n",
        "print('Порог чувствительности для одного пикселя камеры %.1f фотона в секунду'%photons)"
      ],
      "execution_count": 0,
      "outputs": [
        {
          "output_type": "stream",
          "text": [
            "Порог чувствительности для одного пикселя камеры 91.9 фотона в секунду\n"
          ],
          "name": "stdout"
        }
      ]
    },
    {
      "cell_type": "code",
      "metadata": {
        "id": "fo6NZ27mYfSW",
        "colab_type": "code",
        "colab": {}
      },
      "source": [
        ""
      ],
      "execution_count": 0,
      "outputs": []
    }
  ]
}